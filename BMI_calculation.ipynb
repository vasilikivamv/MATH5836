{
 "cells": [
  {
   "cell_type": "code",
   "execution_count": 13,
   "metadata": {},
   "outputs": [
    {
     "name": "stdout",
     "output_type": "stream",
     "text": [
      "Calculation of your Body Mass Index (BMI)\n"
     ]
    },
    {
     "name": "stdin",
     "output_type": "stream",
     "text": [
      "Enter height in meters:  1.80\n",
      "Enter weight in kg:  90\n"
     ]
    },
    {
     "name": "stdout",
     "output_type": "stream",
     "text": [
      " Overweight\n",
      "Your BMI is:  27.78\n"
     ]
    }
   ],
   "source": [
    "def BMI_calc(height,weight):\n",
    "    BMI = round(weight/(height**2), 2)\n",
    "    return BMI\n",
    "\n",
    "def BMI_function(BMI):\n",
    "\n",
    "    total_fine = 0\n",
    "        \n",
    "    if (BMI < 18.5):\n",
    "        print(\" Underweight\")\n",
    "\n",
    "    elif (BMI >= 18.5) and (BMI <= 24.9):\n",
    "        print(\"Healthy weight range\")\n",
    "        \n",
    "    elif (BMI >= 25) and (BMI <= 29.9):\n",
    "        print(\" Overweight\")\n",
    "    else:\n",
    "        print(\" Obese \")\n",
    "\n",
    "\n",
    "def main():\n",
    "    print(\"Calculation of your Body Mass Index (BMI)\") \n",
    "    \n",
    "    height = float(input(\"Enter height in meters: \"))\n",
    "    weight = float(input(\"Enter weight in kg: \"))\n",
    "\n",
    "    calc = BMI_calc(height, weight)\n",
    "\n",
    "    final = BMI_function(calc)\n",
    "\n",
    "    print('Your BMI is: ', calc)\n",
    "\n",
    "if __name__ == '__main__':\n",
    "    main()"
   ]
  },
  {
   "cell_type": "code",
   "execution_count": null,
   "metadata": {},
   "outputs": [],
   "source": []
  }
 ],
 "metadata": {
  "kernelspec": {
   "display_name": "Python 3",
   "language": "python",
   "name": "python3"
  },
  "language_info": {
   "codemirror_mode": {
    "name": "ipython",
    "version": 3
   },
   "file_extension": ".py",
   "mimetype": "text/x-python",
   "name": "python",
   "nbconvert_exporter": "python",
   "pygments_lexer": "ipython3",
   "version": "3.8.3"
  }
 },
 "nbformat": 4,
 "nbformat_minor": 4
}
